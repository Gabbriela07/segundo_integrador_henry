{
 "cells": [
  {
   "cell_type": "markdown",
   "metadata": {},
   "source": [
    "# PROCESO ETL (Extracción, Transformación y Carga de Datos) - siniestros viales"
   ]
  },
  {
   "cell_type": "markdown",
   "metadata": {},
   "source": [
    "En este proyecto, nos embarcamos en la tarea crucial de abordar y mitigar los siniestros viales que afectan a la ciudad de Buenos Aires, Argentina. Con el objetivo principal de reducir las tragedias en las vías urbanas, nos sumergiremos en el análisis de datos relacionados con incidentes viales.\n",
    "\n",
    "Nuestra misión es transformar datos crudos en conocimientos significativos que permitan comprender a fondo los patrones y factores subyacentes que contribuyen a los accidentes de tráfico. A través de un proceso ETL (Extract, Transform, Load), daremos forma a conjuntos de datos dispersos para obtener información valiosa.\n",
    "\n",
    "El propósito último es proporcionar a las autoridades, organizaciones de tráfico y ciudadanos en general una visión clara y detallada de las áreas de mayor riesgo, los momentos críticos y los elementos que más influyen en la seguridad vial. Con esta información, se pretende impulsar la implementación de medidas preventivas y estrategias eficaces que contribuyan a la reducción significativa de las tragedias viales en la Ciudad Autónoma de Buenos Aires."
   ]
  },
  {
   "cell_type": "markdown",
   "metadata": {},
   "source": [
    "### Importamos BIBLIOTECAS necesarias para nuestros primeros pasos"
   ]
  },
  {
   "cell_type": "code",
   "execution_count": 22,
   "metadata": {},
   "outputs": [],
   "source": [
    "import pandas as pd\n",
    "import numpy as np\n",
    "import seaborn as sns\n",
    "import matplotlib.pyplot as plt\n",
    "from functions import cargar_datos_desde_excel\n",
    "from functions import data_cleaning\n",
    "from functions import analizar_valores_sd"
   ]
  },
  {
   "cell_type": "markdown",
   "metadata": {},
   "source": [
    "### CARGA DE LOS DATOS"
   ]
  },
  {
   "cell_type": "code",
   "execution_count": 23,
   "metadata": {},
   "outputs": [],
   "source": [
    "# Llamamos a la función 'cargar_datos_desde_excel'\n",
    "\n",
    "datos_homicidios = cargar_datos_desde_excel('homicidios.xlsx', ['HECHOS', 'VICTIMAS'])\n",
    "datos_lesiones = cargar_datos_desde_excel('lesiones.xlsx', ['HECHOS', 'VICTIMAS'])"
   ]
  },
  {
   "cell_type": "markdown",
   "metadata": {},
   "source": [
    "### EXPLORACION Y LIMPIEZA DE LOS DATOS"
   ]
  },
  {
   "cell_type": "markdown",
   "metadata": {},
   "source": [
    "__DataSet:__ HOMICIOS - HECHOS"
   ]
  },
  {
   "cell_type": "code",
   "execution_count": 24,
   "metadata": {},
   "outputs": [],
   "source": [
    "# Accedemos al dataframe por nombre de hoja, homicidios - hechos\n",
    "\n",
    "h_hechos_df = datos_homicidios['HECHOS']"
   ]
  },
  {
   "cell_type": "code",
   "execution_count": 25,
   "metadata": {},
   "outputs": [
    {
     "name": "stdout",
     "output_type": "stream",
     "text": [
      "Original DataFrame:\n"
     ]
    },
    {
     "data": {
      "text/html": [
       "<div>\n",
       "<style scoped>\n",
       "    .dataframe tbody tr th:only-of-type {\n",
       "        vertical-align: middle;\n",
       "    }\n",
       "\n",
       "    .dataframe tbody tr th {\n",
       "        vertical-align: top;\n",
       "    }\n",
       "\n",
       "    .dataframe thead th {\n",
       "        text-align: right;\n",
       "    }\n",
       "</style>\n",
       "<table border=\"1\" class=\"dataframe\">\n",
       "  <thead>\n",
       "    <tr style=\"text-align: right;\">\n",
       "      <th></th>\n",
       "      <th>ID</th>\n",
       "      <th>N_VICTIMAS</th>\n",
       "      <th>FECHA</th>\n",
       "      <th>AAAA</th>\n",
       "      <th>MM</th>\n",
       "      <th>DD</th>\n",
       "      <th>HORA</th>\n",
       "      <th>HH</th>\n",
       "      <th>LUGAR_DEL_HECHO</th>\n",
       "      <th>TIPO_DE_CALLE</th>\n",
       "      <th>...</th>\n",
       "      <th>Altura</th>\n",
       "      <th>Cruce</th>\n",
       "      <th>Dirección Normalizada</th>\n",
       "      <th>COMUNA</th>\n",
       "      <th>XY (CABA)</th>\n",
       "      <th>pos x</th>\n",
       "      <th>pos y</th>\n",
       "      <th>PARTICIPANTES</th>\n",
       "      <th>VICTIMA</th>\n",
       "      <th>ACUSADO</th>\n",
       "    </tr>\n",
       "  </thead>\n",
       "  <tbody>\n",
       "    <tr>\n",
       "      <th>0</th>\n",
       "      <td>2016-0001</td>\n",
       "      <td>1</td>\n",
       "      <td>2016-01-01</td>\n",
       "      <td>2016</td>\n",
       "      <td>1</td>\n",
       "      <td>1</td>\n",
       "      <td>04:00:00</td>\n",
       "      <td>4</td>\n",
       "      <td>AV PIEDRA BUENA Y AV FERNANDEZ DE LA CRUZ</td>\n",
       "      <td>AVENIDA</td>\n",
       "      <td>...</td>\n",
       "      <td>NaN</td>\n",
       "      <td>FERNANDEZ DE LA CRUZ, F., GRAL. AV.</td>\n",
       "      <td>PIEDRA BUENA AV. y FERNANDEZ DE LA CRUZ, F., G...</td>\n",
       "      <td>8</td>\n",
       "      <td>Point (98896.78238426 93532.43437792)</td>\n",
       "      <td>-58.47533969</td>\n",
       "      <td>-34.68757022</td>\n",
       "      <td>MOTO-AUTO</td>\n",
       "      <td>MOTO</td>\n",
       "      <td>AUTO</td>\n",
       "    </tr>\n",
       "    <tr>\n",
       "      <th>1</th>\n",
       "      <td>2016-0002</td>\n",
       "      <td>1</td>\n",
       "      <td>2016-01-02</td>\n",
       "      <td>2016</td>\n",
       "      <td>1</td>\n",
       "      <td>2</td>\n",
       "      <td>01:15:00</td>\n",
       "      <td>1</td>\n",
       "      <td>AV GRAL PAZ  Y AV DE LOS CORRALES</td>\n",
       "      <td>GRAL PAZ</td>\n",
       "      <td>...</td>\n",
       "      <td>NaN</td>\n",
       "      <td>DE LOS CORRALES AV.</td>\n",
       "      <td>PAZ, GRAL. AV. y DE LOS CORRALES AV.</td>\n",
       "      <td>9</td>\n",
       "      <td>Point (95832.05571093 95505.41641999)</td>\n",
       "      <td>-58.50877521</td>\n",
       "      <td>-34.66977709</td>\n",
       "      <td>AUTO-PASAJEROS</td>\n",
       "      <td>AUTO</td>\n",
       "      <td>PASAJEROS</td>\n",
       "    </tr>\n",
       "    <tr>\n",
       "      <th>2</th>\n",
       "      <td>2016-0003</td>\n",
       "      <td>1</td>\n",
       "      <td>2016-01-03</td>\n",
       "      <td>2016</td>\n",
       "      <td>1</td>\n",
       "      <td>3</td>\n",
       "      <td>07:00:00</td>\n",
       "      <td>7</td>\n",
       "      <td>AV ENTRE RIOS 2034</td>\n",
       "      <td>AVENIDA</td>\n",
       "      <td>...</td>\n",
       "      <td>2034.0</td>\n",
       "      <td>NaN</td>\n",
       "      <td>ENTRE RIOS AV. 2034</td>\n",
       "      <td>1</td>\n",
       "      <td>Point (106684.29090040 99706.57687843)</td>\n",
       "      <td>-58.39040293</td>\n",
       "      <td>-34.63189362</td>\n",
       "      <td>MOTO-AUTO</td>\n",
       "      <td>MOTO</td>\n",
       "      <td>AUTO</td>\n",
       "    </tr>\n",
       "  </tbody>\n",
       "</table>\n",
       "<p>3 rows × 21 columns</p>\n",
       "</div>"
      ],
      "text/plain": [
       "          ID  N_VICTIMAS      FECHA  AAAA  MM  DD      HORA HH  \\\n",
       "0  2016-0001           1 2016-01-01  2016   1   1  04:00:00  4   \n",
       "1  2016-0002           1 2016-01-02  2016   1   2  01:15:00  1   \n",
       "2  2016-0003           1 2016-01-03  2016   1   3  07:00:00  7   \n",
       "\n",
       "                             LUGAR_DEL_HECHO TIPO_DE_CALLE  ...  Altura  \\\n",
       "0  AV PIEDRA BUENA Y AV FERNANDEZ DE LA CRUZ       AVENIDA  ...     NaN   \n",
       "1          AV GRAL PAZ  Y AV DE LOS CORRALES      GRAL PAZ  ...     NaN   \n",
       "2                         AV ENTRE RIOS 2034       AVENIDA  ...  2034.0   \n",
       "\n",
       "                                 Cruce  \\\n",
       "0  FERNANDEZ DE LA CRUZ, F., GRAL. AV.   \n",
       "1                  DE LOS CORRALES AV.   \n",
       "2                                  NaN   \n",
       "\n",
       "                               Dirección Normalizada COMUNA  \\\n",
       "0  PIEDRA BUENA AV. y FERNANDEZ DE LA CRUZ, F., G...      8   \n",
       "1               PAZ, GRAL. AV. y DE LOS CORRALES AV.      9   \n",
       "2                                ENTRE RIOS AV. 2034      1   \n",
       "\n",
       "                                XY (CABA)         pos x         pos y  \\\n",
       "0   Point (98896.78238426 93532.43437792)  -58.47533969  -34.68757022   \n",
       "1   Point (95832.05571093 95505.41641999)  -58.50877521  -34.66977709   \n",
       "2  Point (106684.29090040 99706.57687843)  -58.39040293  -34.63189362   \n",
       "\n",
       "    PARTICIPANTES VICTIMA    ACUSADO  \n",
       "0       MOTO-AUTO    MOTO       AUTO  \n",
       "1  AUTO-PASAJEROS    AUTO  PASAJEROS  \n",
       "2       MOTO-AUTO    MOTO       AUTO  \n",
       "\n",
       "[3 rows x 21 columns]"
      ]
     },
     "execution_count": 25,
     "metadata": {},
     "output_type": "execute_result"
    }
   ],
   "source": [
    "#Visualizacion de las primeras filas del dataframe\n",
    "\n",
    "print(\"Original DataFrame:\")\n",
    "h_hechos_df.head(3)"
   ]
  },
  {
   "cell_type": "code",
   "execution_count": 26,
   "metadata": {},
   "outputs": [
    {
     "name": "stdout",
     "output_type": "stream",
     "text": [
      "<class 'pandas.core.frame.DataFrame'>\n",
      "RangeIndex: 696 entries, 0 to 695\n",
      "Data columns (total 21 columns):\n",
      " #   Column                 Non-Null Count  Dtype         \n",
      "---  ------                 --------------  -----         \n",
      " 0   ID                     696 non-null    object        \n",
      " 1   N_VICTIMAS             696 non-null    int64         \n",
      " 2   FECHA                  696 non-null    datetime64[ns]\n",
      " 3   AAAA                   696 non-null    int64         \n",
      " 4   MM                     696 non-null    int64         \n",
      " 5   DD                     696 non-null    int64         \n",
      " 6   HORA                   696 non-null    object        \n",
      " 7   HH                     696 non-null    object        \n",
      " 8   LUGAR_DEL_HECHO        696 non-null    object        \n",
      " 9   TIPO_DE_CALLE          696 non-null    object        \n",
      " 10  Calle                  695 non-null    object        \n",
      " 11  Altura                 129 non-null    float64       \n",
      " 12  Cruce                  525 non-null    object        \n",
      " 13  Dirección Normalizada  688 non-null    object        \n",
      " 14  COMUNA                 696 non-null    int64         \n",
      " 15  XY (CABA)              696 non-null    object        \n",
      " 16  pos x                  696 non-null    object        \n",
      " 17  pos y                  696 non-null    object        \n",
      " 18  PARTICIPANTES          696 non-null    object        \n",
      " 19  VICTIMA                696 non-null    object        \n",
      " 20  ACUSADO                696 non-null    object        \n",
      "dtypes: datetime64[ns](1), float64(1), int64(5), object(14)\n",
      "memory usage: 114.3+ KB\n"
     ]
    }
   ],
   "source": [
    "#Obtener informacion general del Dataframe\n",
    "\n",
    "h_hechos_df.info()"
   ]
  },
  {
   "cell_type": "markdown",
   "metadata": {},
   "source": [
    "Tras verificar el diccionario de datos, identificamos que los valores \"SD\" corresponden a \"Sin datos\". Por consiguiente, tomamos la decisión de cambiar estos valores a NaN para estandarizar."
   ]
  },
  {
   "cell_type": "code",
   "execution_count": 27,
   "metadata": {},
   "outputs": [
    {
     "data": {
      "text/html": [
       "<div>\n",
       "<style scoped>\n",
       "    .dataframe tbody tr th:only-of-type {\n",
       "        vertical-align: middle;\n",
       "    }\n",
       "\n",
       "    .dataframe tbody tr th {\n",
       "        vertical-align: top;\n",
       "    }\n",
       "\n",
       "    .dataframe thead th {\n",
       "        text-align: right;\n",
       "    }\n",
       "</style>\n",
       "<table border=\"1\" class=\"dataframe\">\n",
       "  <thead>\n",
       "    <tr style=\"text-align: right;\">\n",
       "      <th></th>\n",
       "      <th>Columna</th>\n",
       "      <th>Cantidad de SD</th>\n",
       "      <th>Porcentaje de SD</th>\n",
       "    </tr>\n",
       "  </thead>\n",
       "  <tbody>\n",
       "    <tr>\n",
       "      <th>6</th>\n",
       "      <td>HORA</td>\n",
       "      <td>1</td>\n",
       "      <td>0.143678</td>\n",
       "    </tr>\n",
       "    <tr>\n",
       "      <th>7</th>\n",
       "      <td>HH</td>\n",
       "      <td>1</td>\n",
       "      <td>0.143678</td>\n",
       "    </tr>\n",
       "    <tr>\n",
       "      <th>8</th>\n",
       "      <td>LUGAR_DEL_HECHO</td>\n",
       "      <td>1</td>\n",
       "      <td>0.143678</td>\n",
       "    </tr>\n",
       "    <tr>\n",
       "      <th>19</th>\n",
       "      <td>VICTIMA</td>\n",
       "      <td>9</td>\n",
       "      <td>1.293103</td>\n",
       "    </tr>\n",
       "    <tr>\n",
       "      <th>20</th>\n",
       "      <td>ACUSADO</td>\n",
       "      <td>23</td>\n",
       "      <td>3.304598</td>\n",
       "    </tr>\n",
       "  </tbody>\n",
       "</table>\n",
       "</div>"
      ],
      "text/plain": [
       "            Columna  Cantidad de SD  Porcentaje de SD\n",
       "6              HORA               1          0.143678\n",
       "7                HH               1          0.143678\n",
       "8   LUGAR_DEL_HECHO               1          0.143678\n",
       "19          VICTIMA               9          1.293103\n",
       "20          ACUSADO              23          3.304598"
      ]
     },
     "execution_count": 27,
     "metadata": {},
     "output_type": "execute_result"
    }
   ],
   "source": [
    "# Llamamos la funcion analizar valores\n",
    "\n",
    "resultados_h_hechos = analizar_valores_sd(h_hechos_df)\n",
    "resultados_h_hechos"
   ]
  },
  {
   "cell_type": "code",
   "execution_count": 28,
   "metadata": {},
   "outputs": [],
   "source": [
    "#Remplazar SD por NaN en todo el DataFrame\n",
    "\n",
    "h_hechos_df.replace(['SD','sd'], np.nan, inplace=True)"
   ]
  },
  {
   "cell_type": "code",
   "execution_count": null,
   "metadata": {},
   "outputs": [],
   "source": [
    "# Iniciamos la preparación de los diccionarios y listas que alimentaran la función 'data_cleaning' "
   ]
  },
  {
   "cell_type": "code",
   "execution_count": 29,
   "metadata": {},
   "outputs": [],
   "source": [
    "# Columnas para pasar a minúcula\n",
    "\n",
    "columns_to_lower = ['TIPO_DE_CALLE', 'VICTIMA', 'ACUSADO']"
   ]
  },
  {
   "cell_type": "markdown",
   "metadata": {},
   "source": [
    "Convertir todos los datos a minúsculas evita posibles problemas de coincidencia y simplificas las operaciones de búsqueda y filtrado."
   ]
  },
  {
   "cell_type": "code",
   "execution_count": 30,
   "metadata": {},
   "outputs": [],
   "source": [
    "# Columnas para eliminar\n",
    "\n",
    "columns_to_drop = ['AAAA', 'MM', 'DD', 'HORA', 'LUGAR_DEL_HECHO','Calle','Altura',\n",
    "                   'Cruce','Dirección Normalizada','XY (CABA)','PARTICIPANTES']"
   ]
  },
  {
   "cell_type": "markdown",
   "metadata": {},
   "source": [
    "Decidimos eliminar las columnas 'AAAA', 'MM', y 'DD' del conjunto de datos, ya que la información de fecha ya está presente en la columna 'FECHA'. Esta decisión simplifica el conjunto de datos, mantiene una estructura más consistente y estandarizada, ahorra espacio y facilita el análisis temporal.\n",
    "\n",
    "Asimismo, eliminamos la columna 'HORA' debido a la redundancia de la información de hora, que ya está contenida en la columna 'HH'. Esta elección nos proporciona una visión más general y simplificada de la distribución de los siniestros a lo largo del día.\n",
    "\n",
    "Las columnas 'LUGAR_DEL_HECHO','Calle','Altura','Cruce' y 'Dirección Normalizada' implicaban datos de la dirección del hecho incluso, 'XY (CABA)' que contenía coordenadas en formato de proyección cartesiana también fue eliminada. Preferimos trabajar con las columnas de latitud y longitud por su mayor intuición, no tiene datos nulos, familiaridad para la mayoría de las personas, facilidad de representación gráfica en mapas y conformidad con estándares de sistemas de información geográfica (SIG).\n",
    "\n",
    "La columna 'PARTICIPANTES' contenia información concatenada redundante de 'VICTIMA' y 'ACUSADO', así que se mantuvieron éstas dos últimas."
   ]
  },
  {
   "cell_type": "code",
   "execution_count": 31,
   "metadata": {},
   "outputs": [],
   "source": [
    "# Renombrar columnas\n",
    "\n",
    "rename_dict = {'ID': 'id_siniestro', 'N_VICTIMAS': 'nro_victimas', 'FECHA': 'fecha', 'HH': 'franja_hora',\n",
    "               'TIPO_DE_CALLE': 'tipo_calle', 'COMUNA': 'comuna', 'pos x': 'longitud', 'pos y': 'latitud',\n",
    "               'VICTIMA': 'vehiculo_victima', 'ACUSADO': 'vehiculo_acusado'}"
   ]
  },
  {
   "cell_type": "markdown",
   "metadata": {},
   "source": [
    "Renombramos columnas para mejorar la claridad y legibilidad del conjunto de datos."
   ]
  },
  {
   "cell_type": "code",
   "execution_count": 32,
   "metadata": {},
   "outputs": [],
   "source": [
    "# Convertir a entero\n",
    "\n",
    "columns_to_int = [ 'nro_victimas', 'franja_hora', 'comuna']"
   ]
  },
  {
   "cell_type": "code",
   "execution_count": 33,
   "metadata": {},
   "outputs": [],
   "source": [
    "# Categorización de columnas\n",
    "\n",
    "columns_to_categorize = ['franja_hora', 'tipo_calle', 'comuna', 'vehiculo_victima', 'vehiculo_acusado']"
   ]
  },
  {
   "cell_type": "markdown",
   "metadata": {},
   "source": [
    "Al convertir columnas con un conjunto limitado de valores a categorías, se puede facilitar el análisis exploratorio de datos y la comprensión de las distribuciones de esos valores."
   ]
  },
  {
   "cell_type": "code",
   "execution_count": 34,
   "metadata": {},
   "outputs": [
    {
     "name": "stderr",
     "output_type": "stream",
     "text": [
      "c:\\Users\\Usuario\\Desktop\\segundo_integrador_henry\\Archivos_note\\functions.py:206: FutureWarning: DataFrame.applymap has been deprecated. Use DataFrame.map instead.\n",
      "  cleaned_df = cleaned_df.applymap(lambda x: x.strip() if isinstance(x, str) else x)\n"
     ]
    }
   ],
   "source": [
    "# Invocamos la función 'data_cleaning' para que haga el proceso de limpieza de los datos \n",
    "\n",
    "h_hechos_dfcleaned = data_cleaning(h_hechos_df,\n",
    "                                    strip_spaces=True, # Eliminar espacios en blanco\n",
    "                                    lowercase_columns=columns_to_lower, # Convertir a minúsculas                                    \n",
    "                                    drop_columns=columns_to_drop,  # Eliminar columnas\n",
    "                                    rename_columns=rename_dict,  # Renombrar columnas\n",
    "                                    convert_to_int_columns=columns_to_int, #Conversión entero\n",
    "                                    categorize_columns=columns_to_categorize # Categorizar columnas\n",
    "                                   )"
   ]
  },
  {
   "cell_type": "markdown",
   "metadata": {},
   "source": [
    "En el conjunto de datos tenemos dos registros con comuna valor 0. Para este registro '2016-0174' se tenía la calle y, con ésta logramos obtener comuna, longitud y latitud . Para el caso del registro '2016-0151' no tuvimos la misma suerte, por lo cual buscamos el siniestro más cercano '2016-0155' que haya ocurrido también en una calle y le imputamos el mismo valor a las columnas comuna, longitud y latitud. Por la mínima cantidad de registros no vimos necesario hacer uso de alguna api, obtuvimos los datos consultando esta web https://www.comollegara.com/direccion-a-lat-long.html?lugar=autopista%2025%20de%20mayo%20buenos%20aires."
   ]
  },
  {
   "cell_type": "code",
   "execution_count": 35,
   "metadata": {},
   "outputs": [],
   "source": [
    "# Reemplazar valores\n",
    "\n",
    "# Definir los registros que deseas reemplazar\n",
    "registros_a_reemplazar = [\n",
    "    {'id_siniestro': '2016-0174', 'comuna': 7, 'longitud': -58.369529920, 'latitud': -34.622472560}, # Comunas 0 \n",
    "    {'id_siniestro': '2016-0151', 'comuna': 10, 'longitud': -58.52756365, 'latitud': -34.62772274}, # Comunas 0 \n",
    "    {'id_siniestro': '2018-0039', 'comuna': 14, 'longitud': -58.457579360, 'latitud': -34.538957930}, #sin longitud/latitud\n",
    "    {'id_siniestro': '2020-0026', 'comuna': 14, 'longitud': -58.457579360, 'latitud': -34.538957930}, #sin longitud/latitud  \n",
    "    {'id_siniestro': '2017-0042', 'comuna': 14, 'longitud': -58.457579360, 'latitud': -34.538957930}, #sin longitud/latitud  \n",
    "    {'id_siniestro': '2017-0050', 'comuna': 9, 'longitud': -58.481800300, 'latitud': -34.647005340}, #sin longitud/latitud\n",
    "    {'id_siniestro': '2017-0051', 'comuna': 7, 'longitud': -58.479447760, 'latitud': -34.678121010}, #sin longitud/latitud      \n",
    "    {'id_siniestro': '2017-0140', 'comuna': 4, 'longitud': -58.380781350, 'latitud': -34.622364700}, #sin longitud/latitud\n",
    "    {'id_siniestro': '2020-0039', 'comuna': 9, 'longitud': -58.483096200, 'latitud': -34.671405150}, #sin longitud/latitud   \n",
    "    {'id_siniestro': '2021-0023', 'comuna': 4, 'longitud': -58.364905600, 'latitud': -34.622974220}, #sin longitud/latitud  \n",
    "    {'id_siniestro': '2016-0052', 'comuna': 13, 'longitud': -58.457579360, 'latitud': -34.538957930}, #sin longitud/latitud   \n",
    "    {'id_siniestro': '2016-0136', 'comuna': 4, 'longitud': -58.363401550, 'latitud': -34.624371200}, #sin longitud/latitud  \n",
    "] \n",
    "\n",
    "# Iterar sobre los registros y realizar el reemplazo\n",
    "for registro in registros_a_reemplazar:\n",
    "    id_siniestro = registro['id_siniestro']\n",
    "    comuna = registro['comuna']\n",
    "    longitud = registro['longitud']\n",
    "    latitud = registro['latitud']\n",
    "\n",
    "    # Utilizar loc para reemplazar los valores específicos\n",
    "    h_hechos_dfcleaned.loc[h_hechos_dfcleaned['id_siniestro'] == id_siniestro, 'comuna'] = comuna\n",
    "    h_hechos_dfcleaned.loc[h_hechos_dfcleaned['id_siniestro'] == id_siniestro, 'longitud'] = longitud\n",
    "    h_hechos_dfcleaned.loc[h_hechos_dfcleaned['id_siniestro'] == id_siniestro, 'latitud'] = latitud"
   ]
  },
  {
   "cell_type": "code",
   "execution_count": 36,
   "metadata": {},
   "outputs": [
    {
     "name": "stdout",
     "output_type": "stream",
     "text": [
      "\n",
      "Cleaned DataFrame:\n"
     ]
    },
    {
     "data": {
      "text/html": [
       "<div>\n",
       "<style scoped>\n",
       "    .dataframe tbody tr th:only-of-type {\n",
       "        vertical-align: middle;\n",
       "    }\n",
       "\n",
       "    .dataframe tbody tr th {\n",
       "        vertical-align: top;\n",
       "    }\n",
       "\n",
       "    .dataframe thead th {\n",
       "        text-align: right;\n",
       "    }\n",
       "</style>\n",
       "<table border=\"1\" class=\"dataframe\">\n",
       "  <thead>\n",
       "    <tr style=\"text-align: right;\">\n",
       "      <th></th>\n",
       "      <th>id_siniestro</th>\n",
       "      <th>nro_victimas</th>\n",
       "      <th>fecha</th>\n",
       "      <th>franja_hora</th>\n",
       "      <th>tipo_calle</th>\n",
       "      <th>comuna</th>\n",
       "      <th>longitud</th>\n",
       "      <th>latitud</th>\n",
       "      <th>vehiculo_victima</th>\n",
       "      <th>vehiculo_acusado</th>\n",
       "    </tr>\n",
       "  </thead>\n",
       "  <tbody>\n",
       "    <tr>\n",
       "      <th>0</th>\n",
       "      <td>2016-0001</td>\n",
       "      <td>1</td>\n",
       "      <td>2016-01-01</td>\n",
       "      <td>4</td>\n",
       "      <td>avenida</td>\n",
       "      <td>8</td>\n",
       "      <td>-58.47533969</td>\n",
       "      <td>-34.68757022</td>\n",
       "      <td>moto</td>\n",
       "      <td>auto</td>\n",
       "    </tr>\n",
       "    <tr>\n",
       "      <th>1</th>\n",
       "      <td>2016-0002</td>\n",
       "      <td>1</td>\n",
       "      <td>2016-01-02</td>\n",
       "      <td>1</td>\n",
       "      <td>gral paz</td>\n",
       "      <td>9</td>\n",
       "      <td>-58.50877521</td>\n",
       "      <td>-34.66977709</td>\n",
       "      <td>auto</td>\n",
       "      <td>pasajeros</td>\n",
       "    </tr>\n",
       "    <tr>\n",
       "      <th>2</th>\n",
       "      <td>2016-0003</td>\n",
       "      <td>1</td>\n",
       "      <td>2016-01-03</td>\n",
       "      <td>7</td>\n",
       "      <td>avenida</td>\n",
       "      <td>1</td>\n",
       "      <td>-58.39040293</td>\n",
       "      <td>-34.63189362</td>\n",
       "      <td>moto</td>\n",
       "      <td>auto</td>\n",
       "    </tr>\n",
       "    <tr>\n",
       "      <th>3</th>\n",
       "      <td>2016-0004</td>\n",
       "      <td>1</td>\n",
       "      <td>2016-01-10</td>\n",
       "      <td>0</td>\n",
       "      <td>avenida</td>\n",
       "      <td>8</td>\n",
       "      <td>-58.46503904</td>\n",
       "      <td>-34.68092974</td>\n",
       "      <td>moto</td>\n",
       "      <td>NaN</td>\n",
       "    </tr>\n",
       "    <tr>\n",
       "      <th>4</th>\n",
       "      <td>2016-0005</td>\n",
       "      <td>1</td>\n",
       "      <td>2016-01-21</td>\n",
       "      <td>5</td>\n",
       "      <td>avenida</td>\n",
       "      <td>1</td>\n",
       "      <td>-58.38718297</td>\n",
       "      <td>-34.62246630</td>\n",
       "      <td>moto</td>\n",
       "      <td>pasajeros</td>\n",
       "    </tr>\n",
       "  </tbody>\n",
       "</table>\n",
       "</div>"
      ],
      "text/plain": [
       "  id_siniestro  nro_victimas      fecha  franja_hora tipo_calle  comuna  \\\n",
       "0    2016-0001             1 2016-01-01            4    avenida       8   \n",
       "1    2016-0002             1 2016-01-02            1   gral paz       9   \n",
       "2    2016-0003             1 2016-01-03            7    avenida       1   \n",
       "3    2016-0004             1 2016-01-10            0    avenida       8   \n",
       "4    2016-0005             1 2016-01-21            5    avenida       1   \n",
       "\n",
       "       longitud       latitud vehiculo_victima vehiculo_acusado  \n",
       "0  -58.47533969  -34.68757022             moto             auto  \n",
       "1  -58.50877521  -34.66977709             auto        pasajeros  \n",
       "2  -58.39040293  -34.63189362             moto             auto  \n",
       "3  -58.46503904  -34.68092974             moto              NaN  \n",
       "4  -58.38718297  -34.62246630             moto        pasajeros  "
      ]
     },
     "execution_count": 36,
     "metadata": {},
     "output_type": "execute_result"
    }
   ],
   "source": [
    "print(\"\\nCleaned DataFrame:\")\n",
    "h_hechos_dfcleaned.head()"
   ]
  },
  {
   "cell_type": "markdown",
   "metadata": {},
   "source": [
    "__Dataset:__ Homicidios - Víctimas"
   ]
  },
  {
   "cell_type": "code",
   "execution_count": 37,
   "metadata": {},
   "outputs": [],
   "source": [
    "# Acceder al DataFrame por nombre de hoja, Homicidios - Víctimas\n",
    "\n",
    "h_victimas_df = datos_homicidios['VICTIMAS']"
   ]
  },
  {
   "cell_type": "code",
   "execution_count": 38,
   "metadata": {},
   "outputs": [
    {
     "name": "stdout",
     "output_type": "stream",
     "text": [
      "Original DataFrame:\n"
     ]
    },
    {
     "data": {
      "text/html": [
       "<div>\n",
       "<style scoped>\n",
       "    .dataframe tbody tr th:only-of-type {\n",
       "        vertical-align: middle;\n",
       "    }\n",
       "\n",
       "    .dataframe tbody tr th {\n",
       "        vertical-align: top;\n",
       "    }\n",
       "\n",
       "    .dataframe thead th {\n",
       "        text-align: right;\n",
       "    }\n",
       "</style>\n",
       "<table border=\"1\" class=\"dataframe\">\n",
       "  <thead>\n",
       "    <tr style=\"text-align: right;\">\n",
       "      <th></th>\n",
       "      <th>ID_hecho</th>\n",
       "      <th>FECHA</th>\n",
       "      <th>AAAA</th>\n",
       "      <th>MM</th>\n",
       "      <th>DD</th>\n",
       "      <th>ROL</th>\n",
       "      <th>VICTIMA</th>\n",
       "      <th>SEXO</th>\n",
       "      <th>EDAD</th>\n",
       "      <th>FECHA_FALLECIMIENTO</th>\n",
       "    </tr>\n",
       "  </thead>\n",
       "  <tbody>\n",
       "    <tr>\n",
       "      <th>0</th>\n",
       "      <td>2016-0001</td>\n",
       "      <td>2016-01-01</td>\n",
       "      <td>2016</td>\n",
       "      <td>1</td>\n",
       "      <td>1</td>\n",
       "      <td>CONDUCTOR</td>\n",
       "      <td>MOTO</td>\n",
       "      <td>MASCULINO</td>\n",
       "      <td>19</td>\n",
       "      <td>2016-01-01 00:00:00</td>\n",
       "    </tr>\n",
       "    <tr>\n",
       "      <th>1</th>\n",
       "      <td>2016-0002</td>\n",
       "      <td>2016-01-02</td>\n",
       "      <td>2016</td>\n",
       "      <td>1</td>\n",
       "      <td>2</td>\n",
       "      <td>CONDUCTOR</td>\n",
       "      <td>AUTO</td>\n",
       "      <td>MASCULINO</td>\n",
       "      <td>70</td>\n",
       "      <td>2016-01-02 00:00:00</td>\n",
       "    </tr>\n",
       "    <tr>\n",
       "      <th>2</th>\n",
       "      <td>2016-0003</td>\n",
       "      <td>2016-01-03</td>\n",
       "      <td>2016</td>\n",
       "      <td>1</td>\n",
       "      <td>3</td>\n",
       "      <td>CONDUCTOR</td>\n",
       "      <td>MOTO</td>\n",
       "      <td>MASCULINO</td>\n",
       "      <td>30</td>\n",
       "      <td>2016-01-03 00:00:00</td>\n",
       "    </tr>\n",
       "  </tbody>\n",
       "</table>\n",
       "</div>"
      ],
      "text/plain": [
       "    ID_hecho      FECHA  AAAA  MM  DD        ROL VICTIMA       SEXO EDAD  \\\n",
       "0  2016-0001 2016-01-01  2016   1   1  CONDUCTOR    MOTO  MASCULINO   19   \n",
       "1  2016-0002 2016-01-02  2016   1   2  CONDUCTOR    AUTO  MASCULINO   70   \n",
       "2  2016-0003 2016-01-03  2016   1   3  CONDUCTOR    MOTO  MASCULINO   30   \n",
       "\n",
       "   FECHA_FALLECIMIENTO  \n",
       "0  2016-01-01 00:00:00  \n",
       "1  2016-01-02 00:00:00  \n",
       "2  2016-01-03 00:00:00  "
      ]
     },
     "execution_count": 38,
     "metadata": {},
     "output_type": "execute_result"
    }
   ],
   "source": [
    "# Visualiza las primeras filas del Dataframe\n",
    "\n",
    "print(\"Original DataFrame:\")\n",
    "h_victimas_df.head(3)"
   ]
  },
  {
   "cell_type": "code",
   "execution_count": 39,
   "metadata": {},
   "outputs": [
    {
     "name": "stdout",
     "output_type": "stream",
     "text": [
      "<class 'pandas.core.frame.DataFrame'>\n",
      "RangeIndex: 717 entries, 0 to 716\n",
      "Data columns (total 10 columns):\n",
      " #   Column               Non-Null Count  Dtype         \n",
      "---  ------               --------------  -----         \n",
      " 0   ID_hecho             717 non-null    object        \n",
      " 1   FECHA                717 non-null    datetime64[ns]\n",
      " 2   AAAA                 717 non-null    int64         \n",
      " 3   MM                   717 non-null    int64         \n",
      " 4   DD                   717 non-null    int64         \n",
      " 5   ROL                  717 non-null    object        \n",
      " 6   VICTIMA              717 non-null    object        \n",
      " 7   SEXO                 717 non-null    object        \n",
      " 8   EDAD                 717 non-null    object        \n",
      " 9   FECHA_FALLECIMIENTO  717 non-null    object        \n",
      "dtypes: datetime64[ns](1), int64(3), object(6)\n",
      "memory usage: 56.1+ KB\n"
     ]
    }
   ],
   "source": [
    "# Obtener información general del DataFrame\n",
    "\n",
    "h_victimas_df.info()"
   ]
  },
  {
   "cell_type": "markdown",
   "metadata": {},
   "source": [
    "Tras verificar el diccionario de datos, identificamos que los valores \"SD\" corresponden a \"Sin datos\". Por consiguiente, tomamos la decisión de cambiar estos valores a NaN para estandarizar."
   ]
  },
  {
   "cell_type": "code",
   "execution_count": 41,
   "metadata": {},
   "outputs": [
    {
     "data": {
      "text/html": [
       "<div>\n",
       "<style scoped>\n",
       "    .dataframe tbody tr th:only-of-type {\n",
       "        vertical-align: middle;\n",
       "    }\n",
       "\n",
       "    .dataframe tbody tr th {\n",
       "        vertical-align: top;\n",
       "    }\n",
       "\n",
       "    .dataframe thead th {\n",
       "        text-align: right;\n",
       "    }\n",
       "</style>\n",
       "<table border=\"1\" class=\"dataframe\">\n",
       "  <thead>\n",
       "    <tr style=\"text-align: right;\">\n",
       "      <th></th>\n",
       "      <th>Columna</th>\n",
       "      <th>Cantidad de SD</th>\n",
       "      <th>Porcentaje de SD</th>\n",
       "    </tr>\n",
       "  </thead>\n",
       "  <tbody>\n",
       "    <tr>\n",
       "      <th>5</th>\n",
       "      <td>ROL</td>\n",
       "      <td>11</td>\n",
       "      <td>1.534170</td>\n",
       "    </tr>\n",
       "    <tr>\n",
       "      <th>6</th>\n",
       "      <td>VICTIMA</td>\n",
       "      <td>9</td>\n",
       "      <td>1.255230</td>\n",
       "    </tr>\n",
       "    <tr>\n",
       "      <th>7</th>\n",
       "      <td>SEXO</td>\n",
       "      <td>6</td>\n",
       "      <td>0.836820</td>\n",
       "    </tr>\n",
       "    <tr>\n",
       "      <th>8</th>\n",
       "      <td>EDAD</td>\n",
       "      <td>53</td>\n",
       "      <td>7.391911</td>\n",
       "    </tr>\n",
       "    <tr>\n",
       "      <th>9</th>\n",
       "      <td>FECHA_FALLECIMIENTO</td>\n",
       "      <td>68</td>\n",
       "      <td>9.483961</td>\n",
       "    </tr>\n",
       "  </tbody>\n",
       "</table>\n",
       "</div>"
      ],
      "text/plain": [
       "               Columna  Cantidad de SD  Porcentaje de SD\n",
       "5                  ROL              11          1.534170\n",
       "6              VICTIMA               9          1.255230\n",
       "7                 SEXO               6          0.836820\n",
       "8                 EDAD              53          7.391911\n",
       "9  FECHA_FALLECIMIENTO              68          9.483961"
      ]
     },
     "execution_count": 41,
     "metadata": {},
     "output_type": "execute_result"
    }
   ],
   "source": [
    "# Invoca la función 'analizar_valores_sd'\n",
    "\n",
    "resultados_h_victimas = analizar_valores_sd(h_victimas_df)\n",
    "resultados_h_victimas"
   ]
  },
  {
   "cell_type": "code",
   "execution_count": 42,
   "metadata": {},
   "outputs": [],
   "source": [
    "# Reemplazar 'SD' por NaN en todo el DataFrame\n",
    "\n",
    "h_victimas_df.replace(['SD','sd'], np.nan, inplace=True)"
   ]
  },
  {
   "cell_type": "code",
   "execution_count": null,
   "metadata": {},
   "outputs": [],
   "source": [
    "# Iniciamos la preparación de los diccionarios y listas que alimentaran la función 'data_cleaning' "
   ]
  },
  {
   "cell_type": "code",
   "execution_count": 43,
   "metadata": {},
   "outputs": [],
   "source": [
    "# Columnas para pasar a minúcula\n",
    "\n",
    "columns_to_lower = ['SEXO','ROL']"
   ]
  },
  {
   "cell_type": "markdown",
   "metadata": {},
   "source": [
    "Convertir todos los datos a minúsculas evita posibles problemas de coincidencia y simplificas las operaciones de búsqueda y filtrado."
   ]
  },
  {
   "cell_type": "code",
   "execution_count": 44,
   "metadata": {},
   "outputs": [],
   "source": [
    "# Columnas para eliminar\n",
    "\n",
    "columns_to_drop = ['FECHA','AAAA', 'MM', 'DD', 'FECHA_FALLECIMIENTO', 'VICTIMA']"
   ]
  },
  {
   "cell_type": "markdown",
   "metadata": {},
   "source": [
    "Las columnas que decidimos eliminar nos parecen irrelevantes para nuestro análisis. Algunas de ellas se complementan con los datos de la hoja 'HECHO'"
   ]
  },
  {
   "cell_type": "code",
   "execution_count": 45,
   "metadata": {},
   "outputs": [],
   "source": [
    "# Renombrar columnas\n",
    "\n",
    "rename_dict = {'ID_hecho': 'id_siniestro', 'SEXO': 'sexo',\n",
    "               'EDAD': 'edad', 'ROL': 'rol'}"
   ]
  },
  {
   "cell_type": "markdown",
   "metadata": {},
   "source": [
    "Renombramos columnas para mejorar la claridad y legibilidad del conjunto de datos."
   ]
  },
  {
   "cell_type": "code",
   "execution_count": 46,
   "metadata": {},
   "outputs": [],
   "source": [
    "# Convertir a entero\n",
    "\n",
    "columns_to_int = ['edad']"
   ]
  },
  {
   "cell_type": "code",
   "execution_count": 47,
   "metadata": {},
   "outputs": [],
   "source": [
    "# Columnas para ser agregadas\n",
    "\n",
    "new_columns_dict = {'gravedad': 'fatal'}"
   ]
  },
  {
   "cell_type": "code",
   "execution_count": 48,
   "metadata": {},
   "outputs": [
    {
     "name": "stderr",
     "output_type": "stream",
     "text": [
      "c:\\Users\\Usuario\\Desktop\\segundo_integrador_henry\\Archivos_note\\functions.py:206: FutureWarning: DataFrame.applymap has been deprecated. Use DataFrame.map instead.\n",
      "  cleaned_df = cleaned_df.applymap(lambda x: x.strip() if isinstance(x, str) else x)\n"
     ]
    }
   ],
   "source": [
    "# Llamamos la función 'data_cleaning' para que haga el proceso de limpieza de los datos \n",
    "\n",
    "h_victimas_dfcleaned = data_cleaning(h_victimas_df,\n",
    "                                    strip_spaces=True, # Eliminar espacios en blanco\n",
    "                                    lowercase_columns=columns_to_lower, # Convertir a minúsculas                                    \n",
    "                                    drop_columns=columns_to_drop,  # Eliminar columnas\n",
    "                                    rename_columns=rename_dict,  # Renombrar columnas \n",
    "                                    convert_to_int_columns=columns_to_int, #Conversión entero\n",
    "                                    new_columns=new_columns_dict, # Agregar columnas\n",
    "                                    )"
   ]
  },
  {
   "cell_type": "code",
   "execution_count": 49,
   "metadata": {},
   "outputs": [
    {
     "name": "stderr",
     "output_type": "stream",
     "text": [
      "c:\\Users\\Usuario\\Desktop\\segundo_integrador_henry\\Archivos_note\\functions.py:206: FutureWarning: DataFrame.applymap has been deprecated. Use DataFrame.map instead.\n",
      "  cleaned_df = cleaned_df.applymap(lambda x: x.strip() if isinstance(x, str) else x)\n"
     ]
    }
   ],
   "source": [
    "# Categorización de columnas\n",
    "\n",
    "columns_to_categorize = ['sexo','edad','gravedad','rol']\n",
    "h_victimas_dfcleaned = data_cleaning(h_victimas_dfcleaned, categorize_columns=columns_to_categorize) "
   ]
  },
  {
   "cell_type": "markdown",
   "metadata": {},
   "source": [
    "Al convertir columnas con un conjunto limitado de valores a categorías, se puede facilitar el análisis exploratorio de datos y la comprensión de las distribuciones de esos valores."
   ]
  },
  {
   "cell_type": "code",
   "execution_count": 50,
   "metadata": {},
   "outputs": [
    {
     "name": "stdout",
     "output_type": "stream",
     "text": [
      "\n",
      "Cleaned DataFrame:\n"
     ]
    },
    {
     "data": {
      "text/html": [
       "<div>\n",
       "<style scoped>\n",
       "    .dataframe tbody tr th:only-of-type {\n",
       "        vertical-align: middle;\n",
       "    }\n",
       "\n",
       "    .dataframe tbody tr th {\n",
       "        vertical-align: top;\n",
       "    }\n",
       "\n",
       "    .dataframe thead th {\n",
       "        text-align: right;\n",
       "    }\n",
       "</style>\n",
       "<table border=\"1\" class=\"dataframe\">\n",
       "  <thead>\n",
       "    <tr style=\"text-align: right;\">\n",
       "      <th></th>\n",
       "      <th>id_siniestro</th>\n",
       "      <th>rol</th>\n",
       "      <th>sexo</th>\n",
       "      <th>edad</th>\n",
       "      <th>gravedad</th>\n",
       "    </tr>\n",
       "  </thead>\n",
       "  <tbody>\n",
       "    <tr>\n",
       "      <th>0</th>\n",
       "      <td>2016-0001</td>\n",
       "      <td>conductor</td>\n",
       "      <td>masculino</td>\n",
       "      <td>19</td>\n",
       "      <td>fatal</td>\n",
       "    </tr>\n",
       "    <tr>\n",
       "      <th>1</th>\n",
       "      <td>2016-0002</td>\n",
       "      <td>conductor</td>\n",
       "      <td>masculino</td>\n",
       "      <td>70</td>\n",
       "      <td>fatal</td>\n",
       "    </tr>\n",
       "    <tr>\n",
       "      <th>2</th>\n",
       "      <td>2016-0003</td>\n",
       "      <td>conductor</td>\n",
       "      <td>masculino</td>\n",
       "      <td>30</td>\n",
       "      <td>fatal</td>\n",
       "    </tr>\n",
       "    <tr>\n",
       "      <th>3</th>\n",
       "      <td>2016-0004</td>\n",
       "      <td>conductor</td>\n",
       "      <td>masculino</td>\n",
       "      <td>18</td>\n",
       "      <td>fatal</td>\n",
       "    </tr>\n",
       "    <tr>\n",
       "      <th>4</th>\n",
       "      <td>2016-0005</td>\n",
       "      <td>conductor</td>\n",
       "      <td>masculino</td>\n",
       "      <td>29</td>\n",
       "      <td>fatal</td>\n",
       "    </tr>\n",
       "  </tbody>\n",
       "</table>\n",
       "</div>"
      ],
      "text/plain": [
       "  id_siniestro        rol       sexo edad gravedad\n",
       "0    2016-0001  conductor  masculino   19    fatal\n",
       "1    2016-0002  conductor  masculino   70    fatal\n",
       "2    2016-0003  conductor  masculino   30    fatal\n",
       "3    2016-0004  conductor  masculino   18    fatal\n",
       "4    2016-0005  conductor  masculino   29    fatal"
      ]
     },
     "execution_count": 50,
     "metadata": {},
     "output_type": "execute_result"
    }
   ],
   "source": [
    "print(\"\\nCleaned DataFrame:\")\n",
    "h_victimas_dfcleaned.head()"
   ]
  },
  {
   "cell_type": "markdown",
   "metadata": {},
   "source": [
    "__Dataset:__ Lesiones - Hechos"
   ]
  },
  {
   "cell_type": "code",
   "execution_count": 51,
   "metadata": {},
   "outputs": [],
   "source": [
    "# Acceder al DataFrame por nombre de hoja, Lesiones - Hechos\n",
    "\n",
    "l_hechos_df = datos_lesiones['HECHOS']"
   ]
  },
  {
   "cell_type": "code",
   "execution_count": 52,
   "metadata": {},
   "outputs": [
    {
     "name": "stdout",
     "output_type": "stream",
     "text": [
      "Original DataFrame:\n"
     ]
    },
    {
     "data": {
      "text/html": [
       "<div>\n",
       "<style scoped>\n",
       "    .dataframe tbody tr th:only-of-type {\n",
       "        vertical-align: middle;\n",
       "    }\n",
       "\n",
       "    .dataframe tbody tr th {\n",
       "        vertical-align: top;\n",
       "    }\n",
       "\n",
       "    .dataframe thead th {\n",
       "        text-align: right;\n",
       "    }\n",
       "</style>\n",
       "<table border=\"1\" class=\"dataframe\">\n",
       "  <thead>\n",
       "    <tr style=\"text-align: right;\">\n",
       "      <th></th>\n",
       "      <th>id</th>\n",
       "      <th>n_victimas</th>\n",
       "      <th>aaaa</th>\n",
       "      <th>mm</th>\n",
       "      <th>dd</th>\n",
       "      <th>fecha</th>\n",
       "      <th>hora</th>\n",
       "      <th>franja_hora</th>\n",
       "      <th>direccion_normalizada</th>\n",
       "      <th>comuna</th>\n",
       "      <th>...</th>\n",
       "      <th>latutid</th>\n",
       "      <th>victima</th>\n",
       "      <th>acusado</th>\n",
       "      <th>participantes</th>\n",
       "      <th>moto</th>\n",
       "      <th>auto</th>\n",
       "      <th>transporte_publico</th>\n",
       "      <th>camion</th>\n",
       "      <th>ciclista</th>\n",
       "      <th>gravedad</th>\n",
       "    </tr>\n",
       "  </thead>\n",
       "  <tbody>\n",
       "    <tr>\n",
       "      <th>0</th>\n",
       "      <td>LC-2019-0000179</td>\n",
       "      <td>1</td>\n",
       "      <td>2019</td>\n",
       "      <td>1</td>\n",
       "      <td>1</td>\n",
       "      <td>2019-01-01 00:00:00</td>\n",
       "      <td>09:00:00</td>\n",
       "      <td>9</td>\n",
       "      <td>SD</td>\n",
       "      <td>14</td>\n",
       "      <td>...</td>\n",
       "      <td>-34.559658</td>\n",
       "      <td>CICLISTA</td>\n",
       "      <td>SD</td>\n",
       "      <td>CICLISTA-SD</td>\n",
       "      <td>SD</td>\n",
       "      <td>SD</td>\n",
       "      <td>SD</td>\n",
       "      <td>SD</td>\n",
       "      <td>x</td>\n",
       "      <td>SD</td>\n",
       "    </tr>\n",
       "    <tr>\n",
       "      <th>1</th>\n",
       "      <td>LC-2019-0000053</td>\n",
       "      <td>1</td>\n",
       "      <td>2019</td>\n",
       "      <td>1</td>\n",
       "      <td>1</td>\n",
       "      <td>2019-01-01 00:00:00</td>\n",
       "      <td>01:55:00</td>\n",
       "      <td>1</td>\n",
       "      <td>SD</td>\n",
       "      <td>8</td>\n",
       "      <td>...</td>\n",
       "      <td>-34.669125</td>\n",
       "      <td>AUTO</td>\n",
       "      <td>SD</td>\n",
       "      <td>AUTO-SD</td>\n",
       "      <td>SD</td>\n",
       "      <td>x</td>\n",
       "      <td>SD</td>\n",
       "      <td>SD</td>\n",
       "      <td>SD</td>\n",
       "      <td>SD</td>\n",
       "    </tr>\n",
       "    <tr>\n",
       "      <th>2</th>\n",
       "      <td>LC-2019-0000063</td>\n",
       "      <td>1</td>\n",
       "      <td>2019</td>\n",
       "      <td>1</td>\n",
       "      <td>1</td>\n",
       "      <td>2019-01-01 00:00:00</td>\n",
       "      <td>02:00:00</td>\n",
       "      <td>2</td>\n",
       "      <td>SD</td>\n",
       "      <td>8</td>\n",
       "      <td>...</td>\n",
       "      <td>-34.677556</td>\n",
       "      <td>SD</td>\n",
       "      <td>SD</td>\n",
       "      <td>SD-SD</td>\n",
       "      <td>SD</td>\n",
       "      <td>SD</td>\n",
       "      <td>SD</td>\n",
       "      <td>SD</td>\n",
       "      <td>SD</td>\n",
       "      <td>SD</td>\n",
       "    </tr>\n",
       "  </tbody>\n",
       "</table>\n",
       "<p>3 rows × 27 columns</p>\n",
       "</div>"
      ],
      "text/plain": [
       "                id  n_victimas  aaaa  mm  dd                fecha      hora  \\\n",
       "0  LC-2019-0000179           1  2019   1   1  2019-01-01 00:00:00  09:00:00   \n",
       "1  LC-2019-0000053           1  2019   1   1  2019-01-01 00:00:00  01:55:00   \n",
       "2  LC-2019-0000063           1  2019   1   1  2019-01-01 00:00:00  02:00:00   \n",
       "\n",
       "  franja_hora direccion_normalizada comuna  ...     latutid   victima acusado  \\\n",
       "0           9                    SD     14  ...  -34.559658  CICLISTA      SD   \n",
       "1           1                    SD      8  ...  -34.669125      AUTO      SD   \n",
       "2           2                    SD      8  ...  -34.677556        SD      SD   \n",
       "\n",
       "   participantes moto auto transporte_publico camion ciclista gravedad  \n",
       "0    CICLISTA-SD   SD   SD                 SD     SD        x       SD  \n",
       "1        AUTO-SD   SD    x                 SD     SD       SD       SD  \n",
       "2          SD-SD   SD   SD                 SD     SD       SD       SD  \n",
       "\n",
       "[3 rows x 27 columns]"
      ]
     },
     "execution_count": 52,
     "metadata": {},
     "output_type": "execute_result"
    }
   ],
   "source": [
    "# Visualiza las primeras filas del Dataframe\n",
    "\n",
    "print(\"Original DataFrame:\")\n",
    "l_hechos_df.head(3)"
   ]
  },
  {
   "cell_type": "code",
   "execution_count": 53,
   "metadata": {},
   "outputs": [
    {
     "name": "stdout",
     "output_type": "stream",
     "text": [
      "<class 'pandas.core.frame.DataFrame'>\n",
      "RangeIndex: 23785 entries, 0 to 23784\n",
      "Data columns (total 27 columns):\n",
      " #   Column                 Non-Null Count  Dtype  \n",
      "---  ------                 --------------  -----  \n",
      " 0   id                     23785 non-null  object \n",
      " 1   n_victimas             23785 non-null  int64  \n",
      " 2   aaaa                   23785 non-null  int64  \n",
      " 3   mm                     23785 non-null  int64  \n",
      " 4   dd                     23785 non-null  int64  \n",
      " 5   fecha                  23785 non-null  object \n",
      " 6   hora                   23785 non-null  object \n",
      " 7   franja_hora            23780 non-null  object \n",
      " 8   direccion_normalizada  23732 non-null  object \n",
      " 9   comuna                 23616 non-null  object \n",
      " 10  tipo_calle             23785 non-null  object \n",
      " 11  otra_direccion         23785 non-null  object \n",
      " 12  calle                  12867 non-null  object \n",
      " 13  altura                 12771 non-null  float64\n",
      " 14  cruce                  9407 non-null   object \n",
      " 15  geocodificacion_CABA   23746 non-null  object \n",
      " 16  longitud               23523 non-null  object \n",
      " 17  latutid                23523 non-null  object \n",
      " 18  victima                23785 non-null  object \n",
      " 19  acusado                23785 non-null  object \n",
      " 20  participantes          23785 non-null  object \n",
      " 21  moto                   23692 non-null  object \n",
      " 22  auto                   23692 non-null  object \n",
      " 23  transporte_publico     23692 non-null  object \n",
      " 24  camion                 23692 non-null  object \n",
      " 25  ciclista               23692 non-null  object \n",
      " 26  gravedad               23785 non-null  object \n",
      "dtypes: float64(1), int64(4), object(22)\n",
      "memory usage: 4.9+ MB\n"
     ]
    }
   ],
   "source": [
    "# Obtener información general del DataFrame\n",
    "\n",
    "l_hechos_df.info()"
   ]
  },
  {
   "cell_type": "markdown",
   "metadata": {},
   "source": [
    "Tras verificar el diccionario de datos, identificamos que los valores \"SD\" corresponden a \"Sin datos\". Por consiguiente, tomamos la decisión de cambiar estos valores a NaN para estandarizar."
   ]
  },
  {
   "cell_type": "code",
   "execution_count": 54,
   "metadata": {},
   "outputs": [
    {
     "data": {
      "text/html": [
       "<div>\n",
       "<style scoped>\n",
       "    .dataframe tbody tr th:only-of-type {\n",
       "        vertical-align: middle;\n",
       "    }\n",
       "\n",
       "    .dataframe tbody tr th {\n",
       "        vertical-align: top;\n",
       "    }\n",
       "\n",
       "    .dataframe thead th {\n",
       "        text-align: right;\n",
       "    }\n",
       "</style>\n",
       "<table border=\"1\" class=\"dataframe\">\n",
       "  <thead>\n",
       "    <tr style=\"text-align: right;\">\n",
       "      <th></th>\n",
       "      <th>Columna</th>\n",
       "      <th>Cantidad de SD</th>\n",
       "      <th>Porcentaje de SD</th>\n",
       "    </tr>\n",
       "  </thead>\n",
       "  <tbody>\n",
       "    <tr>\n",
       "      <th>6</th>\n",
       "      <td>hora</td>\n",
       "      <td>4</td>\n",
       "      <td>0.016817</td>\n",
       "    </tr>\n",
       "    <tr>\n",
       "      <th>8</th>\n",
       "      <td>direccion_normalizada</td>\n",
       "      <td>10815</td>\n",
       "      <td>45.469834</td>\n",
       "    </tr>\n",
       "    <tr>\n",
       "      <th>9</th>\n",
       "      <td>comuna</td>\n",
       "      <td>846</td>\n",
       "      <td>3.556864</td>\n",
       "    </tr>\n",
       "    <tr>\n",
       "      <th>10</th>\n",
       "      <td>tipo_calle</td>\n",
       "      <td>11045</td>\n",
       "      <td>46.436830</td>\n",
       "    </tr>\n",
       "    <tr>\n",
       "      <th>11</th>\n",
       "      <td>otra_direccion</td>\n",
       "      <td>18295</td>\n",
       "      <td>76.918226</td>\n",
       "    </tr>\n",
       "    <tr>\n",
       "      <th>15</th>\n",
       "      <td>geocodificacion_CABA</td>\n",
       "      <td>1213</td>\n",
       "      <td>5.099853</td>\n",
       "    </tr>\n",
       "    <tr>\n",
       "      <th>16</th>\n",
       "      <td>longitud</td>\n",
       "      <td>1209</td>\n",
       "      <td>5.083036</td>\n",
       "    </tr>\n",
       "    <tr>\n",
       "      <th>17</th>\n",
       "      <td>latutid</td>\n",
       "      <td>1209</td>\n",
       "      <td>5.083036</td>\n",
       "    </tr>\n",
       "    <tr>\n",
       "      <th>18</th>\n",
       "      <td>victima</td>\n",
       "      <td>10733</td>\n",
       "      <td>45.125079</td>\n",
       "    </tr>\n",
       "    <tr>\n",
       "      <th>19</th>\n",
       "      <td>acusado</td>\n",
       "      <td>15288</td>\n",
       "      <td>64.275804</td>\n",
       "    </tr>\n",
       "    <tr>\n",
       "      <th>21</th>\n",
       "      <td>moto</td>\n",
       "      <td>8511</td>\n",
       "      <td>35.783057</td>\n",
       "    </tr>\n",
       "    <tr>\n",
       "      <th>22</th>\n",
       "      <td>auto</td>\n",
       "      <td>12543</td>\n",
       "      <td>52.734917</td>\n",
       "    </tr>\n",
       "    <tr>\n",
       "      <th>23</th>\n",
       "      <td>transporte_publico</td>\n",
       "      <td>11801</td>\n",
       "      <td>49.615304</td>\n",
       "    </tr>\n",
       "    <tr>\n",
       "      <th>24</th>\n",
       "      <td>camion</td>\n",
       "      <td>12708</td>\n",
       "      <td>53.428631</td>\n",
       "    </tr>\n",
       "    <tr>\n",
       "      <th>25</th>\n",
       "      <td>ciclista</td>\n",
       "      <td>11353</td>\n",
       "      <td>47.731764</td>\n",
       "    </tr>\n",
       "    <tr>\n",
       "      <th>26</th>\n",
       "      <td>gravedad</td>\n",
       "      <td>23056</td>\n",
       "      <td>96.935043</td>\n",
       "    </tr>\n",
       "  </tbody>\n",
       "</table>\n",
       "</div>"
      ],
      "text/plain": [
       "                  Columna  Cantidad de SD  Porcentaje de SD\n",
       "6                    hora               4          0.016817\n",
       "8   direccion_normalizada           10815         45.469834\n",
       "9                  comuna             846          3.556864\n",
       "10             tipo_calle           11045         46.436830\n",
       "11         otra_direccion           18295         76.918226\n",
       "15   geocodificacion_CABA            1213          5.099853\n",
       "16               longitud            1209          5.083036\n",
       "17                latutid            1209          5.083036\n",
       "18                victima           10733         45.125079\n",
       "19                acusado           15288         64.275804\n",
       "21                   moto            8511         35.783057\n",
       "22                   auto           12543         52.734917\n",
       "23     transporte_publico           11801         49.615304\n",
       "24                 camion           12708         53.428631\n",
       "25               ciclista           11353         47.731764\n",
       "26               gravedad           23056         96.935043"
      ]
     },
     "execution_count": 54,
     "metadata": {},
     "output_type": "execute_result"
    }
   ],
   "source": [
    "# Invoca la función 'analizar_valores_sd'\n",
    "\n",
    "resultados_l_hechos = analizar_valores_sd(l_hechos_df)\n",
    "resultados_l_hechos"
   ]
  },
  {
   "cell_type": "code",
   "execution_count": 55,
   "metadata": {},
   "outputs": [],
   "source": [
    "# Reemplazar 'SD' por NaN en todo el DataFrame\n",
    "\n",
    "l_hechos_df.replace(['SD','sd'], np.nan, inplace=True)"
   ]
  },
  {
   "cell_type": "code",
   "execution_count": null,
   "metadata": {},
   "outputs": [],
   "source": [
    "# Iniciamos la preparación de los diccionarios y listas que alimentaran la función 'data_cleaning'"
   ]
  },
  {
   "cell_type": "code",
   "execution_count": null,
   "metadata": {},
   "outputs": [],
   "source": []
  }
 ],
 "metadata": {
  "kernelspec": {
   "display_name": "Python 3",
   "language": "python",
   "name": "python3"
  },
  "language_info": {
   "codemirror_mode": {
    "name": "ipython",
    "version": 3
   },
   "file_extension": ".py",
   "mimetype": "text/x-python",
   "name": "python",
   "nbconvert_exporter": "python",
   "pygments_lexer": "ipython3",
   "version": "3.12.0"
  }
 },
 "nbformat": 4,
 "nbformat_minor": 2
}
