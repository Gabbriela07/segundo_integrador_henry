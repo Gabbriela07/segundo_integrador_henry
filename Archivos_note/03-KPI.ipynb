{
 "cells": [
  {
   "cell_type": "markdown",
   "metadata": {},
   "source": [
    "# KPI (Key Performance Indicator)"
   ]
  },
  {
   "cell_type": "markdown",
   "metadata": {},
   "source": [
    "A continuación los KPI's propuestos por Henry.\n",
    "\n",
    "- 1. Reducir en un 10% la tasa de homicidios en siniestros viales de los últimos seis meses (fecha), en CABA, en comparación con la tasa de homicidios en siniestros viales del semestre anterior.\n",
    "\n",
    "Definimos a la tasa de homicidios en siniestros viales como el número de víctimas fatales en accidentes de tránsito por cada 100,000 habitantes en un área geográfica durante un período de tiempo específico. Su fórmula es: (Número de homicidios en siniestros viales / Población total) * 100,000\n",
    "\n",
    "- 2. Reducir en un 7% la cantidad de accidentes mortales de motociclistas en el último año, en CABA, respecto al año anterior.\n",
    "\n",
    "Definimos a la cantidad de accidentes mortales de motociclistas en siniestros viales como el número absoluto de accidentes fatales en los que estuvieron involucradas víctimas que viajaban en moto en un determinado periodo temporal. Su fórmula para medir la evolución de los accidentes mortales con víctimas en moto es: (Número de accidentes mortales con víctimas en moto en el año anterior - Número de accidentes mortales con víctimas en moto en el año actual) / (Número de accidentes mortales con víctimas en moto en el año anterior) * 100\n",
    "\n",
    "Según la rúbrica de evaluación se debe utilizar como mínimo 1 de los KPI´s anteriormente mencionado el cual debe integrarse en el dashboard del proyecto de análisis de datos.\n",
    "\n"
   ]
  },
  {
   "cell_type": "markdown",
   "metadata": {},
   "source": [
    "# Ficha Técnica del KPI: Reducción en un 7% de Accidentes Mortales de Motociclistas en CABA"
   ]
  },
  {
   "cell_type": "markdown",
   "metadata": {},
   "source": [
    "### Objetivo del KPI"
   ]
  },
  {
   "cell_type": "markdown",
   "metadata": {},
   "source": [
    "El KPI tiene como objetivo medir la efectividad de las medidas de seguridad implementadas, enfocándose en la reducción de accidentes mortales de motociclistas en CABA (Ciudad Autónoma de Buenos Aires). La meta específica es lograr una disminución del 7% en el número de estos accidentes en el último año en comparación con el año anterior."
   ]
  },
  {
   "cell_type": "markdown",
   "metadata": {},
   "source": [
    "### Justificación"
   ]
  },
  {
   "cell_type": "markdown",
   "metadata": {},
   "source": [
    "La elección de este KPI se fundamenta en:\n",
    "\n",
    "- __Relevancia del Problema:__\n",
    "Los accidentes mortales de motociclistas representan una proporción significativa de siniestros viales en CABA, contribuyendo a las estadísticas generales de víctimas fatales en accidentes de tránsito.\n",
    "\n",
    "- __Enfoque en la Seguridad de un Grupo Vulnerable:__\n",
    "Los motociclistas suelen ser un grupo vulnerable en la vía pública. La implementación de medidas específicas para reducir la mortalidad de este grupo contribuye a mejorar la seguridad vial.\n",
    "\n",
    "- __Impacto Social:__\n",
    "La reducción de accidentes mortales no solo tiene implicaciones en términos de seguridad vial, sino que también tiene un impacto directo en la sociedad al disminuir la pérdida de vidas y minimizar el sufrimiento de las familias afectadas.\n",
    "\n",
    "- __Bases Estadísticas:__\n",
    "El análisis de las estadísticas existentes revela que los accidentes mortales de motociclistas son un problema relevante. Estos eventos se han analizado previamente, y existe una necesidad clara de mejorar las condiciones de seguridad para este grupo."
   ]
  },
  {
   "cell_type": "markdown",
   "metadata": {},
   "source": [
    "### Datos Utilizados"
   ]
  },
  {
   "cell_type": "markdown",
   "metadata": {},
   "source": [
    "- __Gravedad del Siniestro:__\n",
    "Se limita a los accidentes clasificados como \"fatal\".\n",
    "\n",
    "- __Vehículo de la Víctima:__\n",
    "Restringido a casos en los que la víctima viajaba en moto.\n",
    "\n",
    "- __Ubicación Geográfica:__\n",
    "Se enfoca exclusivamente en la Ciudad Autónoma de Buenos Aires (CABA).\n",
    "\n",
    "- __Año de Registro:__\n",
    "Se comparan los datos del año anterior con el año actual."
   ]
  },
  {
   "cell_type": "markdown",
   "metadata": {},
   "source": [
    "### Pasos Metodológicos"
   ]
  },
  {
   "cell_type": "markdown",
   "metadata": {},
   "source": [
    "- __Identificación de Años Relevantes:__\n",
    "Determinar los años específicos relevantes para el análisis comparativo.\n",
    "\n",
    "- __Recopilación de Datos:__\n",
    "Obtener el número de accidentes mortales de motociclistas para el año anterior y el año actual en CABA.\n",
    "\n",
    "- __Cálculo de la Reducción porcentual:__\n",
    "Aplicar la fórmula del KPI para obtener el porcentaje de reducción.\n",
    "\n",
    "- __Interpretación del Resultado:__\n",
    "Evaluar si la reducción porcentual alcanza o supera el objetivo del 7%."
   ]
  },
  {
   "cell_type": "markdown",
   "metadata": {},
   "source": [
    "### Consideraciones Adicionales"
   ]
  },
  {
   "cell_type": "markdown",
   "metadata": {},
   "source": [
    "- __Comparación Directa:__\n",
    "El KPI compara únicamente dos años consecutivos para evaluar la tendencia a corto plazo.\n",
    "\n",
    "- __Enfoque Geográfico Específico:__\n",
    "El análisis se concentra en CABA para una evaluación más localizada y específica.\n",
    "\n",
    "- __Revisión Regular:__\n",
    "Se recomienda realizar revisiones regulares para evaluar la sostenibilidad de la reducción a lo largo del tiempo.\n",
    "\n",
    "- __Observaciones Técnicas:__\n",
    "\n",
    "Para resolver el KPI directamente se estructuró una consulta SQL en la base de datos MySQL que calcule la reducción porcentual en la cantidad de accidentes mortales de motociclistas en CABA, tal como definimos previamente. Considerando que el KPI se actualice regularmente, decidí mantener un historial guardando los resultados en una tabla de resumen que luego conecta con Power BI. Esto facilitará la actualización de datos en Power BI sin tener que ejecutar la consulta cada vez.\n",
    "\n",
    "**Base de Datos MySQL:** db_pi_da\n",
    "\n",
    "**Consulta SQL:** kpi_reduccion_mortales_motos\n",
    "La implementación de este KPI permitirá una evaluación sistemática y cuantificable de los esfuerzos realizados para mejorar la seguridad de los motociclistas en CABA, proporcionando una base objetiva para la toma de decisiones y la planificación futura de intervenciones en seguridad vial."
   ]
  },
  {
   "cell_type": "markdown",
   "metadata": {},
   "source": []
  }
 ],
 "metadata": {
  "language_info": {
   "name": "python"
  }
 },
 "nbformat": 4,
 "nbformat_minor": 2
}
