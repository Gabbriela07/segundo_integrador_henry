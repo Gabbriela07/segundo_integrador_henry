{
 "cells": [
  {
   "cell_type": "markdown",
   "metadata": {},
   "source": [
    "# Funciones \n",
    "\n",
    "Este NOTEBOOK nos ayudará a poder trabajar en el ETL y no estar construyendo las mismas funciones repetitivas."
   ]
  },
  {
   "cell_type": "markdown",
   "metadata": {},
   "source": [
    "### IMPORTAMOS LIBRERÍAS NECESARIAS"
   ]
  },
  {
   "cell_type": "code",
   "execution_count": 7,
   "metadata": {},
   "outputs": [],
   "source": [
    "import pandas as pd\n",
    "import numpy as np\n",
    "import re"
   ]
  },
  {
   "cell_type": "markdown",
   "metadata": {},
   "source": [
    "### Funcion de CARGA de los dataset\n",
    "\n",
    "Carga de los archvios de excel y devuelve un diccionario de DATAFRAME\n",
    "\n",
    "En resumen, esta función simplifica la carga de datos desde un archivo Excel en uno o más DataFrames de Pandas, facilitando el manejo de múltiples hojas en un solo llamado a la función.\n",
    "\n",
    "    Parameters:\n",
    "    - archivo (str): Ruta del archivo Excel.\n",
    "    - hojas (list): Lista de nombres de hojas a cargar.\n",
    "    - engine (str, optional): Motor de Excel a utilizar. Por defecto, 'openpyxl'.\n",
    "\n",
    "    Returns:\n",
    "    dfs: Un diccionario donde las claves son los nombres de las hojas y los valores son DataFrames correspondientes.\n",
    "\n",
    "    Example:\n",
    "    >>> datos = cargar_datos_desde_excel('archivo.xlsx', ['Hoja1', 'Hoja2'])\n",
    "    >>> df_hoja1 = datos['Hoja1']\n",
    "    >>> df_hoja2 = datos['Hoja2']\n"
   ]
  },
  {
   "cell_type": "code",
   "execution_count": 8,
   "metadata": {},
   "outputs": [],
   "source": [
    "def carga_datos_excel(archivo, hojas, engine='openpyxl'):\n",
    "    xls_file = pd.ExcelFile(archivo, engine=engine)\n",
    "    dfs = {}\n",
    "\n",
    "    for hoja in hojas:\n",
    "       df = pd.read_excel(xls_file, hoja)\n",
    "       dfs[hoja] = df\n",
    "\n",
    "    return dfs"
   ]
  },
  {
   "cell_type": "markdown",
   "metadata": {},
   "source": [
    "### Funcion de ANALISIS de los VALORES\n",
    "\n",
    "En resumen, esta función proporciona un análisis de las columnas de un DataFrame en busca de la presencia del valor 'SD', proporcionando información sobre la cantidad y el porcentaje de ocurrencias en cada columna."
   ]
  },
  {
   "cell_type": "code",
   "execution_count": 9,
   "metadata": {},
   "outputs": [],
   "source": [
    "def analizar_valores_sd(dataframe):\n",
    "\n",
    "    columnas_con_sd = dataframe.columns # Obtiene la lista de nombres de columnas del DataFrame y la almacena en la variable\n",
    "    resultados = []\n",
    "\n",
    "    for columna in columnas_con_sd: # Itera a través de cada columna en columnas_con_sd.\n",
    "        cantidad_sd = dataframe[columna].eq('SD').sum() # Para cada columna, cuenta la cantidad de veces que aparece el valor 'SD'\n",
    "        porcentaje_sd = (cantidad_sd / len(dataframe)) * 100 # calcula el porcentaje de 'SD' en esa columna en relación con el tamaño total del DataFrame.\n",
    "        resultados.append({'Columna': columna, 'Cantidad de SD': cantidad_sd, 'Porcentaje de SD': porcentaje_sd}) # La información se almacena en una lista de diccionarios llamada resultados.\n",
    "\n",
    "    resultados_df = pd.DataFrame(resultados) #Convierte la lista de diccionarios resultados en un DataFrame de Pandas.\n",
    "    resultados_con_sd = resultados_df[resultados_df['Cantidad de SD'] > 0] #Filtra el DataFrame para incluir solo las filas donde la 'Cantidad de SD' es mayor que cero\n",
    "\n",
    "    return resultados_con_sd #La función devuelve el DataFrame resultante, que contiene información sobre las columnas que tienen al menos un valor 'SD', incluyendo la cantidad y el porcentaje de ocurrencias de 'SD' en cada una."
   ]
  },
  {
   "cell_type": "markdown",
   "metadata": {},
   "source": [
    "### Función para extraer las coordenadas CABA\n",
    "\n",
    "- Esta función toma un argumento texto, que es el texto de entrada del cual se intentarán extraer las coordenadas\n",
    "- Utiliza una expresión regular (re.findall) para buscar todas las coincidencias de números decimales (que tienen un punto como separador decimal) en el texto. Estas coincidencias se almacenan en la lista coordenadas.\n",
    "- return float(coordenadas[0]), float(coordenadas[1]): Si se encontraron dos coordenadas, se convierten en números de punto flotante (float) y se devuelven como una tupla de dos valores.\n",
    "- Luego, se aplica esta función a la columna 'XY (CABA)' de df_siniestros utilizando el método .map(). Esto se hace para cada fila de la columna, y los resultados se almacenan en dos nuevas columnas, 'coordenada_x' y 'coordenada_y', utilizando zip(*...).\n"
   ]
  },
  {
   "cell_type": "code",
   "execution_count": 10,
   "metadata": {},
   "outputs": [],
   "source": [
    "def extraer_coordenadas(texto):\n",
    "    # Utilizamos una expresión regular para extraer las coordenadas\n",
    "    coordenadas = re.findall(r'\\d+\\.\\d+', texto)\n",
    "    if len(coordenadas) == 2:\n",
    "        return float(coordenadas[0]), float(coordenadas[1])\n",
    "    else:\n",
    "        return None, None"
   ]
  }
 ],
 "metadata": {
  "kernelspec": {
   "display_name": "Python 3",
   "language": "python",
   "name": "python3"
  },
  "language_info": {
   "codemirror_mode": {
    "name": "ipython",
    "version": 3
   },
   "file_extension": ".py",
   "mimetype": "text/x-python",
   "name": "python",
   "nbconvert_exporter": "python",
   "pygments_lexer": "ipython3",
   "version": "3.12.0"
  }
 },
 "nbformat": 4,
 "nbformat_minor": 2
}
